{
 "cells": [
  {
   "cell_type": "code",
   "execution_count": 1,
   "metadata": {},
   "outputs": [
    {
     "name": "stdout",
     "output_type": "stream",
     "text": [
      "Requirement already satisfied: pytube in c:\\users\\ak\\appdata\\local\\programs\\python\\python38-32\\lib\\site-packages (10.0.0)"
     ]
    },
    {
     "name": "stderr",
     "output_type": "stream",
     "text": [
      "WARNING: You are using pip version 20.3.1; however, version 20.3.3 is available.\n",
      "You should consider upgrading via the 'c:\\users\\ak\\appdata\\local\\programs\\python\\python38-32\\python.exe -m pip install --upgrade pip' command.\n"
     ]
    },
    {
     "name": "stdout",
     "output_type": "stream",
     "text": [
      "\n",
      "Requirement already satisfied: typing-extensions in c:\\users\\ak\\appdata\\local\\programs\\python\\python38-32\\lib\\site-packages (from pytube) (3.7.4.3)\n"
     ]
    }
   ],
   "source": [
    "!pip install pytube"
   ]
  },
  {
   "cell_type": "code",
   "execution_count": null,
   "metadata": {},
   "outputs": [],
   "source": [
    "from pytube import YouTube\n",
    "\n",
    "from tkinter import *\n",
    "\n",
    "root = Tk()\n",
    "\n",
    "root.geometry('600x400')\n",
    "root.title('Youtube Video Downloader')\n",
    "\n",
    "def Youtube():\n",
    "    a = var.get()\n",
    "    ytvideo = YouTube(a).streams.filter(file_extension='mp4').order_by('resolution').desc().first()\n",
    "    ytvideo.download(r\"S:\\test\")\n",
    "    #r -> it takes 'raw strings'\n",
    "    print(a)\n",
    "\n",
    "l1 = Label(root, text = 'Youtube Video \\n Downloader', bg='red', fg='white', font = ('bold', 20))\n",
    "l1.place(x=200, y=20)\n",
    "\n",
    "var = StringVar()\n",
    "e1 = Entry(root,textvariable = var, width = 60 )\n",
    "e1.place(x=110, y=100)\n",
    "\n",
    "b1 = Button(root,text = 'Download',  command = Youtube, width= 10, bg='green', fg='white')\n",
    "b1.place(x=120, y=140)\n",
    "root.mainloop()"
   ]
  }
 ],
 "metadata": {
  "kernelspec": {
   "display_name": "Python 3",
   "language": "python",
   "name": "python3"
  },
  "language_info": {
   "codemirror_mode": {
    "name": "ipython",
    "version": 3
   },
   "file_extension": ".py",
   "mimetype": "text/x-python",
   "name": "python",
   "nbconvert_exporter": "python",
   "pygments_lexer": "ipython3",
   "version": "3.8.5"
  }
 },
 "nbformat": 4,
 "nbformat_minor": 4
}
